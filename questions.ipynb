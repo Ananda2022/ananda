{
 "cells": [
  {
   "cell_type": "markdown",
   "metadata": {},
   "source": [
    "3. [1,2,3,4,5] - [1,4,3,16,5] (Consider only even number and square of it)\n",
    "4. [15,19,12,16,4] - [15,34,31,28,4] (Need to add previous number to current number)"
   ]
  },
  {
   "cell_type": "code",
   "execution_count": 39,
   "metadata": {},
   "outputs": [
    {
     "name": "stdout",
     "output_type": "stream",
     "text": [
      "1\n",
      "4\n",
      "3\n",
      "16\n",
      "5\n"
     ]
    }
   ],
   "source": [
    "list = [1,2,3,4,5]\n",
    "print(list[0])\n",
    "print(list[1]**2)\n",
    "print(list[2])\n",
    "print(list[3]**2)\n",
    "print(list[4])"
   ]
  },
  {
   "cell_type": "code",
   "execution_count": 46,
   "metadata": {},
   "outputs": [
    {
     "name": "stdout",
     "output_type": "stream",
     "text": [
      "1 , 4 , 3 , 16 , 5\n"
     ]
    }
   ],
   "source": [
    "list = [1,2,3,4,5]\n",
    "print((list[0]),\",\",(list[1]**2),\",\",(list[2]),\",\",(list[3]**2),\",\",(list[4]))"
   ]
  },
  {
   "cell_type": "markdown",
   "metadata": {},
   "source": [
    "4. [15,19,12,16,4] - [15,34,31,28,4] (Need to add previous number to current number)"
   ]
  },
  {
   "cell_type": "code",
   "execution_count": null,
   "metadata": {},
   "outputs": [],
   "source": []
  },
  {
   "cell_type": "code",
   "execution_count": null,
   "metadata": {},
   "outputs": [],
   "source": []
  }
 ],
 "metadata": {
  "kernelspec": {
   "display_name": "Python 3",
   "language": "python",
   "name": "python3"
  },
  "language_info": {
   "codemirror_mode": {
    "name": "ipython",
    "version": 3
   },
   "file_extension": ".py",
   "mimetype": "text/x-python",
   "name": "python",
   "nbconvert_exporter": "python",
   "pygments_lexer": "ipython3",
   "version": "3.7.3"
  }
 },
 "nbformat": 4,
 "nbformat_minor": 2
}
